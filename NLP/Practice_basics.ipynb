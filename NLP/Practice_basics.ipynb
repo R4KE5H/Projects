{
 "cells": [
  {
   "cell_type": "code",
   "execution_count": 16,
   "id": "918e3fc9",
   "metadata": {},
   "outputs": [
    {
     "name": "stdout",
     "output_type": "stream",
     "text": [
      "Extracting Order No. :['412889912']\n",
      "Extracting Order No. :['412889912']\n",
      "Extracting Order No. :['412889912']\n"
     ]
    }
   ],
   "source": [
    "import re\n",
    "\n",
    "chats=['Hello, I am having an issue with my order # 412889912','I have a problem with my order number 412889912',\n",
    "       'My order 412889912 is having an issue, I was charged 300$ when online it says 280$']\n",
    "\n",
    "'''EXTRACTING THE ORDER NUMBER FROM CHATS'''\n",
    "\n",
    "for txt in chats:\n",
    "    reg= 'order[^\\d]*(\\d*)'\n",
    "    print(\"Extracting Order No. :{}\".format(re.findall(reg, txt)))\n",
    "\n"
   ]
  },
  {
   "cell_type": "code",
   "execution_count": 30,
   "id": "6b6002d3",
   "metadata": {},
   "outputs": [
    {
     "name": "stdout",
     "output_type": "stream",
     "text": [
      "Extracting Email id :['abc123@xyz.com']\n",
      "Extracting Ph. No. :['1235678912']\n",
      "*****************************************************\n",
      "Extracting Email id :['ab_c@xyz.com']\n",
      "Extracting Ph. No. :['(123)-567-8912']\n",
      "*****************************************************\n",
      "Extracting Email id :['abc@xyz.com']\n",
      "Extracting Ph. No. :['1235678912']\n",
      "*****************************************************\n"
     ]
    }
   ],
   "source": [
    "chats=['you ask lot of questions 😠  1235678912, abc123@xyz.com','here it is: (123)-567-8912, ab_c@xyz.com',\n",
    "       'yes, phone: 1235678912 email: abc@xyz.com']\n",
    "\n",
    "'''EXTRACTING THE EMAIL ID FROM CHATS'''\n",
    "\n",
    "for txt in chats:\n",
    "    reg1= '[a-zA-Z0-9_]*@xyz\\.com'\n",
    "    reg2= '(\\d{10}|\\(\\d{3}\\)-\\d{3}-\\d{4})'\n",
    "    print(\"Extracting Email id :{}\".format(re.findall(reg1, txt)))\n",
    "    print(\"Extracting Ph. No. :{}\".format(re.findall(reg2, txt)))\n",
    "    print(\"*****************************************************\")"
   ]
  },
  {
   "cell_type": "code",
   "execution_count": 49,
   "id": "bfd3c40d",
   "metadata": {},
   "outputs": [],
   "source": [
    "text=\"Born Elon Reeve Musk \\n June 28, 1971 (age 50) \\n Pretoria, Transvaal, South Africa Citizenship \\n  South Africa (1971–present) \\n Canada (1971–present) \\n United States (2002–present) \\n Education University of Pennsylvania (BS, BA) Title  Founder, CEO and Chief Engineer of SpaceX CEO and product architect of Tesla, Inc. Founder of The Boring Company and X.com (now part of PayPal) Co-founder of Neuralink, OpenAI, and Zip2 Spouse(s)  Justine Wilson (m. 2000; div. 2008) Talulah Riley (m. 2010; div. 2012) (m. 2013; div. 2016) \""
   ]
  },
  {
   "cell_type": "code",
   "execution_count": 51,
   "id": "e37c25a2",
   "metadata": {},
   "outputs": [
    {
     "name": "stdout",
     "output_type": "stream",
     "text": [
      "Extract Name: [' Elon Reeve Musk '] and Age: ['50']\n"
     ]
    }
   ],
   "source": [
    "reg_name='Born(.*)\\n'\n",
    "reg_age='age (\\d+)'\n",
    "\n",
    "print(\"Extract Name: {} and Age: {}\".format(re.findall(reg_name, text),re.findall(reg_age, text)))"
   ]
  }
 ],
 "metadata": {
  "kernelspec": {
   "display_name": "Python 3 (ipykernel)",
   "language": "python",
   "name": "python3"
  },
  "language_info": {
   "codemirror_mode": {
    "name": "ipython",
    "version": 3
   },
   "file_extension": ".py",
   "mimetype": "text/x-python",
   "name": "python",
   "nbconvert_exporter": "python",
   "pygments_lexer": "ipython3",
   "version": "3.9.0"
  }
 },
 "nbformat": 4,
 "nbformat_minor": 5
}
